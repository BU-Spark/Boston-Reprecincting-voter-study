{
 "cells": [
  {
   "cell_type": "code",
   "execution_count": 13,
   "metadata": {},
   "outputs": [],
   "source": [
    "import os\n",
    "import boto3\n",
    "import pandas as pd\n",
    "from pdf2image import convert_from_path"
   ]
  },
  {
   "cell_type": "code",
   "execution_count": 14,
   "metadata": {},
   "outputs": [],
   "source": [
    "client = boto3.client('textract')"
   ]
  },
  {
   "cell_type": "code",
   "execution_count": 15,
   "metadata": {},
   "outputs": [],
   "source": [
    "def map_blocks(blocks, block_type):\n",
    "    return {\n",
    "        block['Id']: block\n",
    "        for block in blocks\n",
    "        if block['BlockType'] == block_type\n",
    "    }"
   ]
  },
  {
   "cell_type": "code",
   "execution_count": 16,
   "metadata": {},
   "outputs": [],
   "source": [
    "def get_children_ids(block):\n",
    "    for rels in block.get('Relationships', []):\n",
    "        if rels['Type'] == 'CHILD':\n",
    "            yield from rels['Ids']"
   ]
  },
  {
   "cell_type": "code",
   "execution_count": 18,
   "metadata": {},
   "outputs": [],
   "source": [
    "for city in os.listdir(\"Cities/\"):\n",
    "    for document in os.listdir(\"Cities/\"+city+\"/\"):\n",
    "        if (document.split(\".\")[-1] == \"pdf\"):\n",
    "            images = convert_from_path(\"Cities/\"+city+\"/\"+document)\n",
    "            for i in range(len(images)):\n",
    "                images[i].save(\"Cities/\"+city+\"/\"+document.split(\".\")[0]+'_page'+ str(i) +'.jpg', 'JPEG')"
   ]
  },
  {
   "cell_type": "code",
   "execution_count": 22,
   "metadata": {},
   "outputs": [],
   "source": [
    "for city in os.listdir(\"Cities/\"):\n",
    "        for document in os.listdir(\"Cities/\"+city+\"/\"):\n",
    "            if (document.split(\".\")[-1] == \"jpg\"):\n",
    "                with open(\"Cities/\"+city+\"/\"+document, \"rb\") as file:\n",
    "                    f = file.read()\n",
    "                    b = bytearray(f)\n",
    "                response = client.analyze_document(Document={'Bytes': b}, FeatureTypes=[\"TABLES\"])\n",
    "                \n",
    "                blocks = response['Blocks']\n",
    "                tables = map_blocks(blocks, 'TABLE')\n",
    "                cells = map_blocks(blocks, 'CELL')\n",
    "                words = map_blocks(blocks, 'WORD')\n",
    "                selections = map_blocks(blocks, 'SELECTION_ELEMENT')\n",
    "\n",
    "                count = 0\n",
    "\n",
    "                for table in tables.values():\n",
    "\n",
    "                    count += 1\n",
    "\n",
    "                    # Determine all the cells that belong to this table\n",
    "                    table_cells = [cells[cell_id] for cell_id in get_children_ids(table)]\n",
    "\n",
    "                    # Determine the table's number of rows and columns\n",
    "                    n_rows = max(cell['RowIndex'] for cell in table_cells)\n",
    "                    n_cols = max(cell['ColumnIndex'] for cell in table_cells)\n",
    "                    content = [[None for _ in range(n_cols)] for _ in range(n_rows)]\n",
    "\n",
    "                    # Fill in each cell\n",
    "                    for cell in table_cells:\n",
    "                        cell_contents = [\n",
    "                            words[child_id]['Text']\n",
    "                            if child_id in words\n",
    "                            else selections[child_id]['SelectionStatus']\n",
    "                            for child_id in get_children_ids(cell)\n",
    "                        ]\n",
    "                        i = cell['RowIndex'] - 1\n",
    "                        j = cell['ColumnIndex'] - 1\n",
    "                        content[i][j] = ' '.join(cell_contents)\n",
    "\n",
    "                    # We assume that the first row corresponds to the column names\n",
    "                    dataframe = pd.DataFrame(content[1:], columns=content[0])\n",
    "                    dataframe.to_csv(\"Cities/\"+city+\"/\"+document.split(\".\")[0]+\"_table\"+str(count)+\".csv\", encoding = 'utf-8')"
   ]
  },
  {
   "cell_type": "code",
   "execution_count": null,
   "metadata": {},
   "outputs": [],
   "source": []
  }
 ],
 "metadata": {
  "kernelspec": {
   "name": "python38664bit249f7894c91348c0914ca2a96747b9f7",
   "display_name": "Python 3.8.6 64-bit"
  },
  "language_info": {
   "codemirror_mode": {
    "name": "ipython",
    "version": 3
   },
   "file_extension": ".py",
   "mimetype": "text/x-python",
   "name": "python",
   "nbconvert_exporter": "python",
   "pygments_lexer": "ipython3",
   "version": "3.8.6-final"
  },
  "metadata": {
   "interpreter": {
    "hash": "31f2aee4e71d21fbe5cf8b01ff0e069b9275f58929596ceb00d14d90e3e16cd6"
   }
  }
 },
 "nbformat": 4,
 "nbformat_minor": 4
}
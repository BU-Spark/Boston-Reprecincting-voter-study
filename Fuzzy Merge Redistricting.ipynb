{
 "cells": [
  {
   "cell_type": "code",
   "execution_count": null,
   "metadata": {},
   "outputs": [],
   "source": [
    "import pandas as pd\n",
    "import numpy as np\n",
    "import dask.dataframe as dd\n",
    "import requests\n",
    "import json\n",
    "from numpy import cos, sin, arcsin, sqrt\n",
    "from math import radians\n",
    "from datetime import datetime\n",
    "\n",
    "from fuzzywuzzy import fuzz \n",
    "from pandas import ExcelWriter\n",
    "import time\n",
    "from pandas import ExcelFile\n",
    "\n",
    "from sklearn.cluster import KMeans\n",
    "import seaborn as sns; sns.set()\n",
    "import matplotlib.pyplot as plt"
   ]
  },
  {
   "cell_type": "code",
   "execution_count": null,
   "metadata": {},
   "outputs": [],
   "source": [
    "df1\n",
    "df2"
   ]
  },
  {
   "cell_type": "code",
   "execution_count": null,
   "metadata": {},
   "outputs": [],
   "source": [
    "# String similarity between the two fields\n",
    "def FuzzySimilarity(row):\n",
    "    address_1 = row['Column_1_address']\n",
    "    address_2 = row['Column_1_address']\n",
    "    fuzzy_ratio = fuzz.token_set_ratio(address_1,address_2)\n",
    "    return fuzzy_ratio"
   ]
  },
  {
   "cell_type": "code",
   "execution_count": null,
   "metadata": {},
   "outputs": [],
   "source": [
    "df['First_character'] = df['County (or whatever its called)'].str[2:]\n",
    "\n",
    "character_list = list(df['First_character'])"
   ]
  },
  {
   "cell_type": "code",
   "execution_count": null,
   "metadata": {},
   "outputs": [],
   "source": [
    "# Does the batch merging\n",
    "\n",
    "for chars in character_list:\n",
    "    \n",
    "    df1_sub = df1[df1['First_character'] == chars]\n",
    "    df2_sub = df2[df2['First_character'] == chars]\n",
    "\n",
    "    df_merge = dd.merge(df1_sub, df2_sub, how='left', left_on='First_character', right_on='First_character')\n",
    "\n",
    "    df_merge['Fuzzy Similarity'] = df_merge.apply(lambda row: FuzzySimilarity(row), axis=1)\n",
    "    \n",
    "    Fuzzy_merge = df_merge[df_merge['Fuzzy Similarity'] > 85]\n",
    "    \n",
    "    \n",
    "    title = chars + \"_Question_1_Block_group_merge.csv\"\n",
    "    \n",
    "    Fuzzy_merge.to_csv(title, enconding = 'utf-8')\n",
    "    \n",
    "    \n"
   ]
  },
  {
   "cell_type": "code",
   "execution_count": null,
   "metadata": {},
   "outputs": [],
   "source": [
    "# Creates list of file titles\n",
    "\n",
    "List_of_csv_titles = []\n",
    "for chars in character_list\n",
    "    title = chars + \"_Question_1_Block_group_merge.csv\"\n",
    "    List_of_csv_titles.append(title)\n",
    "print(List_of_csv_titles)"
   ]
  },
  {
   "cell_type": "code",
   "execution_count": null,
   "metadata": {},
   "outputs": [],
   "source": [
    "# Merging all the batches\n",
    "\n",
    "df_merge_final = pd.DataFrame()\n",
    "for files in List_of_csv_titles:\n",
    "    data = pd.read_csv(files)\n",
    "    df_merge_final = df_merge_final.append(data)\n",
    "df_merge_final"
   ]
  }
 ],
 "metadata": {
  "kernelspec": {
   "display_name": "Python 3",
   "language": "python",
   "name": "python3"
  },
  "language_info": {
   "codemirror_mode": {
    "name": "ipython",
    "version": 3
   },
   "file_extension": ".py",
   "mimetype": "text/x-python",
   "name": "python",
   "nbconvert_exporter": "python",
   "pygments_lexer": "ipython3",
   "version": "3.8.5"
  }
 },
 "nbformat": 4,
 "nbformat_minor": 4
}

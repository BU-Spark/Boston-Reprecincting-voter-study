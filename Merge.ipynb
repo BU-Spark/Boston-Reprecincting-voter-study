{
 "metadata": {
  "language_info": {
   "codemirror_mode": {
    "name": "ipython",
    "version": 3
   },
   "file_extension": ".py",
   "mimetype": "text/x-python",
   "name": "python",
   "nbconvert_exporter": "python",
   "pygments_lexer": "ipython3",
   "version": "3.8.9"
  },
  "orig_nbformat": 2,
  "kernelspec": {
   "name": "python3",
   "display_name": "Python 3",
   "language": "python"
  }
 },
 "nbformat": 4,
 "nbformat_minor": 2,
 "cells": [
  {
   "cell_type": "code",
   "execution_count": 28,
   "metadata": {},
   "outputs": [],
   "source": [
    "import os\n",
    "import pandas as pd"
   ]
  },
  {
   "cell_type": "code",
   "execution_count": 29,
   "metadata": {},
   "outputs": [],
   "source": [
    "for city in os.listdir(\"Cities/\"):\n",
    "    for document in os.listdir(\"Cities/\"+city+\"/\"):\n",
    "        if (document.split(\".\")[-1] == \"csv\"):\n",
    "            try:\n",
    "                df = pd.read_excel(\"Cities/\"+city+\"/\"+\"_\".join(document.split(\"_\")[:-2])+\"_summary.xlsx\", engine='openpyxl')\n",
    "                df = df.append(pd.read_csv(\"Cities/\"+city+\"/\"+document))\n",
    "                df.to_excel(\"Cities/\"+city+\"/\"+\"_\".join(document.split(\"_\")[:-2])+\"_summary.xlsx\")\n",
    "            except:\n",
    "                df = pd.read_csv(\"Cities/\"+city+\"/\"+document)\n",
    "                df.to_excel(\"Cities/\"+city+\"/\"+\"_\".join(document.split(\"_\")[:-2])+\"_summary.xlsx\")"
   ]
  },
  {
   "cell_type": "code",
   "execution_count": null,
   "metadata": {},
   "outputs": [],
   "source": []
  }
 ]
}
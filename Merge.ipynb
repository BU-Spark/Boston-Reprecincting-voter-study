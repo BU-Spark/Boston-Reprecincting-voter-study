{
 "metadata": {
  "language_info": {
   "codemirror_mode": {
    "name": "ipython",
    "version": 3
   },
   "file_extension": ".py",
   "mimetype": "text/x-python",
   "name": "python",
   "nbconvert_exporter": "python",
   "pygments_lexer": "ipython3",
   "version": "3.8.9"
  },
  "orig_nbformat": 2,
  "kernelspec": {
   "name": "python3",
   "display_name": "Python 3",
   "language": "python"
  }
 },
 "nbformat": 4,
 "nbformat_minor": 2,
 "cells": [
  {
   "cell_type": "code",
   "execution_count": 1,
   "metadata": {},
   "outputs": [],
   "source": [
    "import os\n",
    "import tqdm\n",
    "import pandas as pd"
   ]
  },
  {
   "cell_type": "code",
   "execution_count": 2,
   "metadata": {},
   "outputs": [
    {
     "output_type": "stream",
     "name": "stderr",
     "text": [
      "100%|██████████| 1345/1345 [02:40<00:00,  8.40it/s]\n"
     ]
    }
   ],
   "source": [
    "for city in os.listdir(\"Cities/\"):\n",
    "    for document in tqdm.tqdm(os.listdir(\"Cities/\"+city+\"/\")):\n",
    "        if (document.split(\".\")[-1] == \"csv\"):\n",
    "            try:\n",
    "                df = pd.read_excel(\"Cities/\"+city+\"/\"+\"_\".join(document.split(\"_\")[:-2])+\"_summary.xlsx\", engine='openpyxl')\n",
    "                df = df.append(pd.read_csv(\"Cities/\"+city+\"/\"+document, index_col=0, header=None))\n",
    "                df.to_excel(\"Cities/\"+city+\"/\"+\"_\".join(document.split(\"_\")[:-2])+\"_summary.xlsx\", index=False)\n",
    "            except:\n",
    "                df = pd.read_csv(\"Cities/\"+city+\"/\"+document, index_col=0, header=None)\n",
    "                df.to_excel(\"Cities/\"+city+\"/\"+\"_\".join(document.split(\"_\")[:-2])+\"_summary.xlsx\", index=False)"
   ]
  },
  {
   "cell_type": "code",
   "execution_count": null,
   "metadata": {},
   "outputs": [],
   "source": []
  }
 ]
}